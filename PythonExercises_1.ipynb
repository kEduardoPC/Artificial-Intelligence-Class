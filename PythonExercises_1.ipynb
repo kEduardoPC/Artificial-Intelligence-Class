{
  "nbformat": 4,
  "nbformat_minor": 0,
  "metadata": {
    "colab": {
      "provenance": [],
      "authorship_tag": "ABX9TyPRhtyAu7oQ4kZTOy464LQJ"
    },
    "kernelspec": {
      "name": "python3",
      "display_name": "Python 3"
    },
    "language_info": {
      "name": "python"
    }
  },
  "cells": [
    {
      "cell_type": "markdown",
      "source": [
        "#**A2. Python Exercises**\n",
        "\n",
        "Name: Kevin Eduardo Pérez Contreras \n",
        "\n",
        "Student ID: 1896768 \n",
        "\n",
        "Subject: Artificial Intelligence\n",
        "\n",
        "Day & Hour: Tuesday N4-N6"
      ],
      "metadata": {
        "id": "QsBeIvSSGEJx"
      }
    },
    {
      "cell_type": "markdown",
      "source": [
        "1.- Develop an algorithm that can make the conversion from decimal to binary system (from 0 to 255).  "
      ],
      "metadata": {
        "id": "4zqbbAbKGKw5"
      }
    },
    {
      "cell_type": "code",
      "source": [
        "def DecimalToBinary(number):\n",
        "  if number>=1: # We first check if the number has a value greater or equal to 1\n",
        "    DecimalToBinary(number//2) # We use recursivity so the print is done in the \n",
        "    # right order, else it would print backwards\n",
        "  print(number%2, end='') # We divide by the modulus, since dividing by 2 only\n",
        "  # gives values of 0 or 1"
      ],
      "metadata": {
        "id": "wvqWfc5LGOg5"
      },
      "execution_count": null,
      "outputs": []
    },
    {
      "cell_type": "code",
      "source": [
        "DecimalToBinary(0)"
      ],
      "metadata": {
        "colab": {
          "base_uri": "https://localhost:8080/"
        },
        "id": "ZDWHCuBHIBFb",
        "outputId": "df148bc8-5b66-47fd-d115-305b30d9b5b6"
      },
      "execution_count": null,
      "outputs": [
        {
          "output_type": "stream",
          "name": "stdout",
          "text": [
            "0\n"
          ]
        }
      ]
    },
    {
      "cell_type": "code",
      "source": [
        "DecimalToBinary(255)"
      ],
      "metadata": {
        "colab": {
          "base_uri": "https://localhost:8080/"
        },
        "id": "ejnXzQYVJeeb",
        "outputId": "e5ff0a6f-564e-4213-e028-1382d82f22e2"
      },
      "execution_count": null,
      "outputs": [
        {
          "output_type": "stream",
          "name": "stdout",
          "text": [
            "011111111"
          ]
        }
      ]
    },
    {
      "cell_type": "code",
      "source": [
        "DecimalToBinary(24)"
      ],
      "metadata": {
        "colab": {
          "base_uri": "https://localhost:8080/"
        },
        "id": "zKIkZAPSJ5S8",
        "outputId": "b4ca164a-af24-4854-b404-a4774cebee88"
      },
      "execution_count": null,
      "outputs": [
        {
          "output_type": "stream",
          "name": "stdout",
          "text": [
            "011000"
          ]
        }
      ]
    },
    {
      "cell_type": "code",
      "source": [
        "DecimalToBinary(80)"
      ],
      "metadata": {
        "colab": {
          "base_uri": "https://localhost:8080/"
        },
        "id": "n8tHd9hkNOWj",
        "outputId": "dcc08f4e-8fcb-4360-f672-5337ba296174"
      },
      "execution_count": null,
      "outputs": [
        {
          "output_type": "stream",
          "name": "stdout",
          "text": [
            "01010000"
          ]
        }
      ]
    },
    {
      "cell_type": "code",
      "source": [
        "DecimalToBinary(150)"
      ],
      "metadata": {
        "colab": {
          "base_uri": "https://localhost:8080/"
        },
        "id": "kMOR__y2Nak3",
        "outputId": "cfbb72a2-c5ea-4957-82fb-c96e7c9b3c7f"
      },
      "execution_count": null,
      "outputs": [
        {
          "output_type": "stream",
          "name": "stdout",
          "text": [
            "010010110"
          ]
        }
      ]
    },
    {
      "cell_type": "markdown",
      "source": [
        "2.- Math Pyramid: This algorithm will create a math pyramid from an initial list of integers. An example of the final result will look like this: \n",
        "\n",
        "initial list = [20, 5, 10, 8]\n",
        "\n",
        "final result:  \n",
        "              20, 5, 10, 8       \n",
        "                25,15,18    \n",
        "                   40,33    \n",
        "                     73"
      ],
      "metadata": {
        "id": "RsdLz76ARgRh"
      }
    },
    {
      "cell_type": "code",
      "source": [
        "def Pyramid(nolist): \n",
        "  twolist=[] # First, we create a secondary list\n",
        "  print(nolist) # We print the original list before changes\n",
        "  for i in range(len(nolist)-1): # Loop that determines the height of the pyramid\n",
        "    twolist=[] # This is to clear the new list everytime we initiate a new loop\n",
        "    for j in range(0, len(nolist)-1): #Determines the width of each row\n",
        "      twolist.append(nolist[j]+nolist[j+1]) #Adds the summed values to the blank list\n",
        "    nolist=twolist #Maked the original list equal to the new one\n",
        "    print(twolist) #Print the new summed list"
      ],
      "metadata": {
        "id": "HPqrtjC7BG5f"
      },
      "execution_count": 359,
      "outputs": []
    },
    {
      "cell_type": "code",
      "source": [
        "list=[20,5,10,8]\n",
        "\n",
        "Pyramid(list)"
      ],
      "metadata": {
        "colab": {
          "base_uri": "https://localhost:8080/"
        },
        "id": "Rzuudu8UTYCm",
        "outputId": "6da5a41b-0b21-4253-9f87-cd945f70a79e"
      },
      "execution_count": 360,
      "outputs": [
        {
          "output_type": "stream",
          "name": "stdout",
          "text": [
            "[20, 5, 10, 8]\n",
            "[25, 15, 18]\n",
            "[40, 33]\n",
            "[73]\n"
          ]
        }
      ]
    },
    {
      "cell_type": "code",
      "source": [
        "list2=[15, 14, 17, 20, 12]\n",
        "\n",
        "Pyramid(list2)"
      ],
      "metadata": {
        "colab": {
          "base_uri": "https://localhost:8080/"
        },
        "id": "CGa-dh6GrYV9",
        "outputId": "dfc3013c-eddd-42ab-a5d8-ca5fa70f5f6d"
      },
      "execution_count": 367,
      "outputs": [
        {
          "output_type": "stream",
          "name": "stdout",
          "text": [
            "[15, 14, 17, 20, 12]\n",
            "[29, 31, 37, 32]\n",
            "[60, 68, 69]\n",
            "[128, 137]\n",
            "[265]\n"
          ]
        }
      ]
    },
    {
      "cell_type": "code",
      "source": [
        "list3=[1, 1, 1, 1]\n",
        "\n",
        "Pyramid(list3)"
      ],
      "metadata": {
        "colab": {
          "base_uri": "https://localhost:8080/"
        },
        "id": "SsyLx4kzt5O6",
        "outputId": "d948b18b-3de8-4ec1-8358-ad3c7c9efb5a"
      },
      "execution_count": 362,
      "outputs": [
        {
          "output_type": "stream",
          "name": "stdout",
          "text": [
            "[1, 1, 1, 1]\n",
            "[2, 2, 2]\n",
            "[4, 4]\n",
            "[8]\n"
          ]
        }
      ]
    },
    {
      "cell_type": "code",
      "source": [
        "list4=[100, 235, 12]\n",
        "\n",
        "Pyramid(list4)"
      ],
      "metadata": {
        "colab": {
          "base_uri": "https://localhost:8080/"
        },
        "id": "0yrMyCDFurQC",
        "outputId": "ff67b2a8-5fae-4427-8907-7e8060cb32b6"
      },
      "execution_count": 366,
      "outputs": [
        {
          "output_type": "stream",
          "name": "stdout",
          "text": [
            "[100, 235, 12]\n",
            "[335, 247]\n",
            "[582]\n"
          ]
        }
      ]
    },
    {
      "cell_type": "code",
      "source": [
        "list5=[2,5]\n",
        "\n",
        "Pyramid(list5)"
      ],
      "metadata": {
        "colab": {
          "base_uri": "https://localhost:8080/"
        },
        "id": "doVjjDI9GFaQ",
        "outputId": "ad9729ac-38f0-40fe-a00d-baace8920999"
      },
      "execution_count": 365,
      "outputs": [
        {
          "output_type": "stream",
          "name": "stdout",
          "text": [
            "[2, 5]\n",
            "[7]\n"
          ]
        }
      ]
    },
    {
      "cell_type": "code",
      "source": [
        "list6=[12, 15, 21, 65, 17, 80, 101]\n",
        "\n",
        "Pyramid(list6)"
      ],
      "metadata": {
        "colab": {
          "base_uri": "https://localhost:8080/"
        },
        "id": "QA8-Dn-gGH9u",
        "outputId": "813b749f-a93c-4145-952e-0c9639234603"
      },
      "execution_count": 368,
      "outputs": [
        {
          "output_type": "stream",
          "name": "stdout",
          "text": [
            "[12, 15, 21, 65, 17, 80, 101]\n",
            "[27, 36, 86, 82, 97, 181]\n",
            "[63, 122, 168, 179, 278]\n",
            "[185, 290, 347, 457]\n",
            "[475, 637, 804]\n",
            "[1112, 1441]\n",
            "[2553]\n"
          ]
        }
      ]
    }
  ]
}