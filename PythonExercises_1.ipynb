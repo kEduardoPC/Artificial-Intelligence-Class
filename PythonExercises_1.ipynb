{
  "nbformat": 4,
  "nbformat_minor": 0,
  "metadata": {
    "colab": {
      "provenance": []
    },
    "kernelspec": {
      "name": "python3",
      "display_name": "Python 3"
    },
    "language_info": {
      "name": "python"
    }
  },
  "cells": [
    {
      "cell_type": "markdown",
      "source": [
        "#**A2. Python Exercises**\n",
        "\n",
        "Name: Kevin Eduardo Pérez Contreras \n",
        "\n",
        "Student ID: 1896768 \n",
        "\n",
        "Subject: Artificial Intelligence\n",
        "\n",
        "Day & Hour: Tuesday N4-N6"
      ],
      "metadata": {
        "id": "QsBeIvSSGEJx"
      }
    },
    {
      "cell_type": "markdown",
      "source": [
        "1.- Develop an algorithm that can make the conversion from decimal to binary system (from 0 to 255).  "
      ],
      "metadata": {
        "id": "4zqbbAbKGKw5"
      }
    },
    {
      "cell_type": "code",
      "source": [
        "def DecimalToBinary(number):\n",
        "  if number>=1: # We first check if the number has a value greater or equal to 1\n",
        "    DecimalToBinary(number//2) # We use recursivity so the print is done in the \n",
        "    # right order, else it would print backwards\n",
        "  print(number%2, end='') # We divide by the modulus, since dividing by 2 only\n",
        "  # gives values of 0 or 1"
      ],
      "metadata": {
        "id": "wvqWfc5LGOg5"
      },
      "execution_count": 73,
      "outputs": []
    },
    {
      "cell_type": "code",
      "source": [
        "DecimalToBinary(0)"
      ],
      "metadata": {
        "colab": {
          "base_uri": "https://localhost:8080/",
          "height": 0
        },
        "id": "ZDWHCuBHIBFb",
        "outputId": "df148bc8-5b66-47fd-d115-305b30d9b5b6"
      },
      "execution_count": 69,
      "outputs": [
        {
          "output_type": "stream",
          "name": "stdout",
          "text": [
            "0\n"
          ]
        }
      ]
    },
    {
      "cell_type": "code",
      "source": [
        "DecimalToBinary(255)"
      ],
      "metadata": {
        "colab": {
          "base_uri": "https://localhost:8080/",
          "height": 0
        },
        "id": "ejnXzQYVJeeb",
        "outputId": "e5ff0a6f-564e-4213-e028-1382d82f22e2"
      },
      "execution_count": 74,
      "outputs": [
        {
          "output_type": "stream",
          "name": "stdout",
          "text": [
            "011111111"
          ]
        }
      ]
    },
    {
      "cell_type": "code",
      "source": [
        "DecimalToBinary(24)"
      ],
      "metadata": {
        "colab": {
          "base_uri": "https://localhost:8080/",
          "height": 0
        },
        "id": "zKIkZAPSJ5S8",
        "outputId": "b4ca164a-af24-4854-b404-a4774cebee88"
      },
      "execution_count": 75,
      "outputs": [
        {
          "output_type": "stream",
          "name": "stdout",
          "text": [
            "011000"
          ]
        }
      ]
    },
    {
      "cell_type": "code",
      "source": [
        "DecimalToBinary(80)"
      ],
      "metadata": {
        "colab": {
          "base_uri": "https://localhost:8080/",
          "height": 0
        },
        "id": "n8tHd9hkNOWj",
        "outputId": "dcc08f4e-8fcb-4360-f672-5337ba296174"
      },
      "execution_count": 77,
      "outputs": [
        {
          "output_type": "stream",
          "name": "stdout",
          "text": [
            "01010000"
          ]
        }
      ]
    },
    {
      "cell_type": "code",
      "source": [
        "DecimalToBinary(150)"
      ],
      "metadata": {
        "colab": {
          "base_uri": "https://localhost:8080/",
          "height": 0
        },
        "id": "kMOR__y2Nak3",
        "outputId": "cfbb72a2-c5ea-4957-82fb-c96e7c9b3c7f"
      },
      "execution_count": 78,
      "outputs": [
        {
          "output_type": "stream",
          "name": "stdout",
          "text": [
            "010010110"
          ]
        }
      ]
    },
    {
      "cell_type": "markdown",
      "source": [
        "2.- Math Pyramid: This algorithm will create a math pyramid from an initial list of integers. An example of the final result will look like this: \n",
        "\n",
        "initial list = [20, 5, 10, 8]\n",
        "\n",
        "final result:  \n",
        "              20, 5, 10, 8       \n",
        "                25,15,18    \n",
        "                   40,33    \n",
        "                     73"
      ],
      "metadata": {
        "id": "RsdLz76ARgRh"
      }
    },
    {
      "cell_type": "code",
      "source": [
        "def Pyramid(nolist): # We transform many times the length of the list to an \n",
        "# integer so we can use it more easily. However, this specific algorithm can only\n",
        "# be used for lists of four integers due to its nature\n",
        "  for i in range(int(len(nolist))):\n",
        "    print(nolist[i], end=' ')\n",
        "  print()\n",
        "  for j in range(1, int(len(nolist))):\n",
        "    print(int(nolist[j])+int(nolist[j-1]), end=' ')\n",
        "  print()\n",
        "  for k in range(2, int(len(nolist))):\n",
        "    print(int(nolist[k])+2*int(nolist[k-1])+int(nolist[k-2]), end=' ')\n",
        "  print()\n",
        "  for l in range(3, int(len(nolist))):\n",
        "    print(int(nolist[l])+3*int(nolist[l-1])+3*int(nolist[l-2])+int(nolist[l-3]), end=' ')"
      ],
      "metadata": {
        "id": "D4S1j2bbRasw"
      },
      "execution_count": 305,
      "outputs": []
    },
    {
      "cell_type": "code",
      "source": [
        "list=[20,5,10,8]\n",
        "\n",
        "Pyramid(list)"
      ],
      "metadata": {
        "colab": {
          "base_uri": "https://localhost:8080/"
        },
        "id": "Rzuudu8UTYCm",
        "outputId": "5c6b76ac-2c6c-4d99-fd26-4d855628d778"
      },
      "execution_count": 306,
      "outputs": [
        {
          "output_type": "stream",
          "name": "stdout",
          "text": [
            "20 5 10 8 \n",
            "25 15 18 \n",
            "40 33 \n",
            "73 "
          ]
        }
      ]
    },
    {
      "cell_type": "code",
      "source": [
        "list2=[15, 14, 17, 20]\n",
        "\n",
        "Pyramid(list2)"
      ],
      "metadata": {
        "colab": {
          "base_uri": "https://localhost:8080/"
        },
        "id": "CGa-dh6GrYV9",
        "outputId": "c9800fd1-b901-4cd9-c35a-2a3b63b25065"
      },
      "execution_count": 307,
      "outputs": [
        {
          "output_type": "stream",
          "name": "stdout",
          "text": [
            "15 14 17 20 \n",
            "29 31 37 \n",
            "60 68 \n",
            "128 "
          ]
        }
      ]
    },
    {
      "cell_type": "code",
      "source": [
        "list3=[1, 1, 1, 1]\n",
        "\n",
        "Pyramid(list3)"
      ],
      "metadata": {
        "colab": {
          "base_uri": "https://localhost:8080/"
        },
        "id": "SsyLx4kzt5O6",
        "outputId": "19cfc2b6-91ec-4951-acef-dfa68a6b2222"
      },
      "execution_count": 308,
      "outputs": [
        {
          "output_type": "stream",
          "name": "stdout",
          "text": [
            "1 1 1 1 \n",
            "2 2 2 \n",
            "4 4 \n",
            "8 "
          ]
        }
      ]
    },
    {
      "cell_type": "code",
      "source": [
        "list4=[100, 235, 12, 17]\n",
        "\n",
        "Pyramid(list4)"
      ],
      "metadata": {
        "colab": {
          "base_uri": "https://localhost:8080/"
        },
        "id": "0yrMyCDFurQC",
        "outputId": "adaf021a-cfe6-4132-e11c-ca40507275b1"
      },
      "execution_count": 309,
      "outputs": [
        {
          "output_type": "stream",
          "name": "stdout",
          "text": [
            "100 235 12 17 \n",
            "335 247 29 \n",
            "582 276 \n",
            "858 "
          ]
        }
      ]
    },
    {
      "cell_type": "code",
      "source": [],
      "metadata": {
        "id": "3kJ5Mk7Fu5Ix"
      },
      "execution_count": null,
      "outputs": []
    }
  ]
}